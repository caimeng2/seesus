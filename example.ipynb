{
 "cells": [
  {
   "cell_type": "markdown",
   "metadata": {},
   "source": [
    "# How to use `seesus`\n",
    "\n",
    "More description coming up"
   ]
  },
  {
   "cell_type": "code",
   "execution_count": 1,
   "metadata": {
    "ExecuteTime": {
     "end_time": "2023-09-20T15:00:12.080489Z",
     "start_time": "2023-09-20T15:00:12.047451Z"
    }
   },
   "outputs": [],
   "source": [
    "from seesus import SeeSus"
   ]
  },
  {
   "cell_type": "code",
   "execution_count": 16,
   "metadata": {
    "ExecuteTime": {
     "end_time": "2023-09-20T15:04:22.878298Z",
     "start_time": "2023-09-20T15:04:22.874174Z"
    },
    "tags": []
   },
   "outputs": [],
   "source": [
    "text = \"our goal is to end hunger globally\""
   ]
  },
  {
   "cell_type": "code",
   "execution_count": 17,
   "metadata": {
    "ExecuteTime": {
     "end_time": "2023-09-20T15:04:24.779960Z",
     "start_time": "2023-09-20T15:04:23.760309Z"
    }
   },
   "outputs": [],
   "source": [
    "result = SeeSus(text)"
   ]
  },
  {
   "cell_type": "code",
   "execution_count": 18,
   "metadata": {
    "ExecuteTime": {
     "end_time": "2023-09-20T15:04:25.631928Z",
     "start_time": "2023-09-20T15:04:25.622842Z"
    }
   },
   "outputs": [
    {
     "name": "stdout",
     "output_type": "stream",
     "text": [
      "['SDG2']\n",
      "['Zero Hunger']\n"
     ]
    }
   ],
   "source": [
    "print(result.sdg)\n",
    "print(result.sdg_desc)"
   ]
  },
  {
   "cell_type": "code",
   "execution_count": 19,
   "metadata": {
    "ExecuteTime": {
     "end_time": "2023-09-20T15:04:26.607442Z",
     "start_time": "2023-09-20T15:04:26.598263Z"
    }
   },
   "outputs": [
    {
     "name": "stdout",
     "output_type": "stream",
     "text": [
      "['SDG2_1']\n",
      "['By 2030, end hunger and ensure access by all people, in particular the poor and people in vulnerable situations, including infants, to safe, nutritious and sufficient food all year round']\n"
     ]
    }
   ],
   "source": [
    "print(result.target)\n",
    "print(result.target_desc)"
   ]
  },
  {
   "cell_type": "code",
   "execution_count": 21,
   "metadata": {
    "ExecuteTime": {
     "end_time": "2023-09-20T15:09:29.761115Z",
     "start_time": "2023-09-20T15:09:29.750146Z"
    }
   },
   "outputs": [
    {
     "name": "stdout",
     "output_type": "stream",
     "text": [
      "{'social_sustainability': True, 'environmental_sustainability': False, 'economic_sustainability': False}\n"
     ]
    }
   ],
   "source": [
    "print(result.see)"
   ]
  },
  {
   "cell_type": "code",
   "execution_count": 22,
   "metadata": {
    "ExecuteTime": {
     "end_time": "2023-09-20T15:10:13.612903Z",
     "start_time": "2023-09-20T15:10:13.602560Z"
    }
   },
   "outputs": [
    {
     "name": "stdout",
     "output_type": "stream",
     "text": [
      "['indirect']\n"
     ]
    }
   ],
   "source": [
    "print(result.match)"
   ]
  },
  {
   "cell_type": "code",
   "execution_count": 24,
   "metadata": {
    "ExecuteTime": {
     "end_time": "2023-09-20T15:10:52.411394Z",
     "start_time": "2023-09-20T15:10:52.401033Z"
    }
   },
   "outputs": [
    {
     "name": "stdout",
     "output_type": "stream",
     "text": [
      "[{'SDG_id': 'SDG2_1', 'SDG_keywords': '(sdg|goal|target|indicator)[^0-9]{0,2}(?=2\\\\.1[\\\\.]{0,1})', 'match_type': 'direct'}, {'SDG_id': 'SDG2_1', 'SDG_keywords': '^(?=.*(?:alleviat\\\\S*|\\\\babate\\\\S*|abridge\\\\S*|\\\\bavert\\\\S*|abolish\\\\S*|eradicat\\\\S*|eliminat\\\\S*|\\\\beras\\\\S*|\\\\bease\\\\S*|\\\\bend.?\\\\b|\\\\bended\\\\b|rid of|phase out|\\\\bwipe out|\\\\breduc\\\\S*|\\\\bcut.?\\\\b|\\\\bcurb\\\\S*|curtail\\\\S*|declin\\\\S*|decreas\\\\S*|diminish\\\\S*|diminution\\\\S*|\\\\bdrop\\\\S*|dwindl\\\\S*|\\\\bfade\\\\b|fall off|go down|goes down|went down|tone down|die down|cut down|\\\\bhalt\\\\S*|hinder\\\\S*|\\\\bhamper\\\\S*|impede\\\\S*|\\\\binhibit.?\\\\b|\\\\binhibited\\\\b|\\\\binhibiting|lessen\\\\S*|mitigat\\\\S*|slash\\\\S*|shrink\\\\S*|\\\\bstop\\\\S*|slump\\\\S*|\\\\btrim\\\\S*|weaken\\\\S*|\\\\bno\\\\b|\\\\bzero|prevent\\\\S*|prohibit\\\\S*|minimis\\\\S*|minimiz\\\\S*))(?=.*(?:hunger|undernourish\\\\S*|undernutrion|starv\\\\S*|famine\\\\S*|malnourish\\\\S*|malnutrition\\\\S*)).+', 'match_type': 'indirect'}, {'SDG_id': 'SDG2_1', 'SDG_keywords': '^(?=.*(?:alleviat\\\\S*|\\\\babate\\\\S*|abridge\\\\S*|\\\\bavert\\\\S*|abolish\\\\S*|eradicat\\\\S*|eliminat\\\\S*|\\\\beras\\\\S*|\\\\bease\\\\S*|\\\\bend.?\\\\b|\\\\bended\\\\b|rid of|phase out|\\\\bwipe out|\\\\breduc\\\\S*|\\\\bcut.?\\\\b|\\\\bcurb\\\\S*|curtail\\\\S*|declin\\\\S*|decreas\\\\S*|diminish\\\\S*|diminution\\\\S*|\\\\bdrop\\\\S*|dwindl\\\\S*|\\\\bfade\\\\b|fall off|go down|goes down|went down|tone down|die down|cut down|\\\\bhalt\\\\S*|hinder\\\\S*|\\\\bhamper\\\\S*|impede\\\\S*|\\\\binhibit.?\\\\b|\\\\binhibited\\\\b|\\\\binhibiting|lessen\\\\S*|mitigat\\\\S*|slash\\\\S*|shrink\\\\S*|\\\\bstop\\\\S*|slump\\\\S*|\\\\btrim\\\\S*|weaken\\\\S*|\\\\bno\\\\b|\\\\bzero|prevent\\\\S*|prohibit\\\\S*|minimis\\\\S*|minimiz\\\\S*)).+(((?:food|nutrition.?)\\\\s(?:\\\\w+\\\\s){0,5}(?=(?:insecurity|desert.?\\\\b|deprivation.?|deficien\\\\S*)))|((?:insecurity|desert.?\\\\b|deprivation.?|deficien\\\\S*)\\\\s(?:\\\\w+\\\\s){0,5}(?=(?:food|nutrition.?))))', 'match_type': 'indirect'}, {'SDG_id': 'SDG2_1', 'SDG_keywords': '^(?=.*(?:food|nutrition.?))(?=.*(?:access|safe|secur\\\\S*|nutritious|sufficient|\\\\bample|plentiful|abundant)).+', 'match_type': 'indirect'}]\n"
     ]
    }
   ],
   "source": [
    "SeeSus.show_syntax(\"SDG2_1\")"
   ]
  },
  {
   "cell_type": "code",
   "execution_count": 27,
   "metadata": {
    "ExecuteTime": {
     "end_time": "2023-09-20T15:14:22.427649Z",
     "start_time": "2023-09-20T15:14:22.412522Z"
    }
   },
   "outputs": [
    {
     "name": "stdout",
     "output_type": "stream",
     "text": [
      "The indirect match syntax of SDG2_1 has been updated.\n"
     ]
    }
   ],
   "source": [
    "SeeSus.edit_syntax(\"SDG2_1\", \"my match terms\")"
   ]
  },
  {
   "cell_type": "code",
   "execution_count": 28,
   "metadata": {
    "ExecuteTime": {
     "end_time": "2023-09-20T15:14:23.139738Z",
     "start_time": "2023-09-20T15:14:23.133468Z"
    }
   },
   "outputs": [
    {
     "name": "stdout",
     "output_type": "stream",
     "text": [
      "[{'SDG_id': 'SDG2_1', 'SDG_keywords': '(sdg|goal|target|indicator)[^0-9]{0,2}(?=2\\\\.1[\\\\.]{0,1})', 'match_type': 'direct'}, {'SDG_id': 'SDG2_1', 'SDG_keywords': 'my match terms', 'match_type': 'indirect'}, {'SDG_id': 'SDG2_1', 'SDG_keywords': 'my match terms', 'match_type': 'indirect'}, {'SDG_id': 'SDG2_1', 'SDG_keywords': 'my match terms', 'match_type': 'indirect'}]\n"
     ]
    }
   ],
   "source": [
    "SeeSus.show_syntax(\"SDG2_1\")"
   ]
  },
  {
   "cell_type": "code",
   "execution_count": 30,
   "metadata": {
    "ExecuteTime": {
     "end_time": "2023-09-20T15:14:46.705563Z",
     "start_time": "2023-09-20T15:14:45.749356Z"
    }
   },
   "outputs": [],
   "source": [
    "new_result = SeeSus(\"my match terms\")"
   ]
  },
  {
   "cell_type": "code",
   "execution_count": 32,
   "metadata": {
    "ExecuteTime": {
     "end_time": "2023-09-20T15:15:00.684237Z",
     "start_time": "2023-09-20T15:15:00.672786Z"
    }
   },
   "outputs": [
    {
     "data": {
      "text/plain": [
       "['SDG2']"
      ]
     },
     "execution_count": 32,
     "metadata": {},
     "output_type": "execute_result"
    }
   ],
   "source": [
    "print(new_result.sdg)"
   ]
  },
  {
   "cell_type": "code",
   "execution_count": 33,
   "metadata": {
    "ExecuteTime": {
     "end_time": "2023-09-20T15:15:23.086251Z",
     "start_time": "2023-09-20T15:15:23.082619Z"
    }
   },
   "outputs": [
    {
     "name": "stdout",
     "output_type": "stream",
     "text": [
      "['SDG2_1']\n"
     ]
    }
   ],
   "source": [
    "print(new_result.target)"
   ]
  },
  {
   "cell_type": "code",
   "execution_count": null,
   "metadata": {},
   "outputs": [],
   "source": []
  }
 ],
 "metadata": {
  "kernelspec": {
   "display_name": "Python 3",
   "language": "python",
   "name": "python3"
  },
  "language_info": {
   "codemirror_mode": {
    "name": "ipython",
    "version": 3
   },
   "file_extension": ".py",
   "mimetype": "text/x-python",
   "name": "python",
   "nbconvert_exporter": "python",
   "pygments_lexer": "ipython3",
   "version": "3.8.3"
  },
  "toc": {
   "base_numbering": 1,
   "nav_menu": {},
   "number_sections": false,
   "sideBar": true,
   "skip_h1_title": false,
   "title_cell": "Table of Contents",
   "title_sidebar": "Contents",
   "toc_cell": false,
   "toc_position": {},
   "toc_section_display": true,
   "toc_window_display": false
  },
  "varInspector": {
   "cols": {
    "lenName": 16,
    "lenType": 16,
    "lenVar": 40
   },
   "kernels_config": {
    "python": {
     "delete_cmd_postfix": "",
     "delete_cmd_prefix": "del ",
     "library": "var_list.py",
     "varRefreshCmd": "print(var_dic_list())"
    },
    "r": {
     "delete_cmd_postfix": ") ",
     "delete_cmd_prefix": "rm(",
     "library": "var_list.r",
     "varRefreshCmd": "cat(var_dic_list()) "
    }
   },
   "types_to_exclude": [
    "module",
    "function",
    "builtin_function_or_method",
    "instance",
    "_Feature"
   ],
   "window_display": false
  }
 },
 "nbformat": 4,
 "nbformat_minor": 4
}
