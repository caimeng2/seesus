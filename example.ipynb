{
 "cells": [
  {
   "cell_type": "markdown",
   "metadata": {},
   "source": [
    "<img src=\"docs/logo.jpg\" width=\"400\" height=\"400\" align=\"center\"/> \n",
    "\n",
    "# <center> `seesus` for Text Analysis on Sustainability<center> "
   ]
  },
  {
   "attachments": {},
   "cell_type": "markdown",
   "metadata": {},
   "source": [
    "`seesus` is an open-source Python software that evaluates whether a textual expression aligns with the concept of sustainability as defined by the United Nations Sustainable Development Goals (SDGs). It currently has four main functions: \n",
    "1. [Evaluate whether a statement aligns with sustainability](#1)\n",
    "2. [Identify SDGs and associated targets in a statement](#2)\n",
    "3. [Classify a statement into social, environmental, and economic sustainability](#3)\n",
    "4. [Examine and customize match syntax](#4)\n",
    "\n",
    "`seesus` is based on regular expressions instead of language models. It attains an accuracy rate of 75.5%, as determined by alignment with manual coding.\n",
    "\n",
    "For analysis in R, please check [`SDGdector`](https://github.com/Yingjie4Science/SDGdetector)."
   ]
  },
  {
   "cell_type": "markdown",
   "metadata": {},
   "source": [
    "## Example usage"
   ]
  },
  {
   "cell_type": "markdown",
   "metadata": {},
   "source": [
    "To achieve the best results, it is recommended to analyze one sentence rather than a lengthy paragraph. Paragraphs could be split into sentences by tools such as `nltk.tokenize` and `re.split`. \n",
    "\n",
    "A statement could be directly matched with the concept of sustainability (e.g., \"progress toward the Sustainable Development Goal 1\"), or indirectly (e.g., \"mitigate climate change\"). We provide two examples here."
   ]
  },
  {
   "cell_type": "code",
   "execution_count": 1,
   "metadata": {
    "ExecuteTime": {
     "end_time": "2023-09-22T14:42:27.204684Z",
     "start_time": "2023-09-22T14:42:27.192274Z"
    }
   },
   "outputs": [],
   "source": [
    "from seesus import SeeSus"
   ]
  },
  {
   "cell_type": "code",
   "execution_count": 2,
   "metadata": {
    "ExecuteTime": {
     "end_time": "2023-09-22T14:42:27.208449Z",
     "start_time": "2023-09-22T14:42:27.206848Z"
    },
    "tags": []
   },
   "outputs": [],
   "source": [
    "# an example with indirect match\n",
    "text = \"We aim to contribute to the mitigation of climate change by reducing carbon emissions in the city.\""
   ]
  },
  {
   "cell_type": "code",
   "execution_count": 3,
   "metadata": {
    "ExecuteTime": {
     "end_time": "2023-09-22T14:42:27.212171Z",
     "start_time": "2023-09-22T14:42:27.210608Z"
    }
   },
   "outputs": [],
   "source": [
    "# an example with direct match\n",
    "# text = \"Our ambition is to achieve the Sustainable Development Goal 1\""
   ]
  },
  {
   "cell_type": "code",
   "execution_count": 4,
   "metadata": {
    "ExecuteTime": {
     "end_time": "2023-09-22T14:42:28.104688Z",
     "start_time": "2023-09-22T14:42:27.213454Z"
    }
   },
   "outputs": [],
   "source": [
    "result = SeeSus(text)"
   ]
  },
  {
   "cell_type": "markdown",
   "metadata": {},
   "source": [
    "<a name=\"1\"></a>\n",
    "### To evaluate whether a statement aligns with sustainability"
   ]
  },
  {
   "cell_type": "code",
   "execution_count": 5,
   "metadata": {
    "ExecuteTime": {
     "end_time": "2023-09-22T14:42:28.107304Z",
     "start_time": "2023-09-22T14:42:28.105527Z"
    }
   },
   "outputs": [
    {
     "name": "stdout",
     "output_type": "stream",
     "text": [
      "True\n"
     ]
    }
   ],
   "source": [
    "print(result.sus)"
   ]
  },
  {
   "cell_type": "markdown",
   "metadata": {},
   "source": [
    "<a name=\"2\"></a>\n",
    "### To identify SDGs and associated targets in a statement"
   ]
  },
  {
   "cell_type": "code",
   "execution_count": 6,
   "metadata": {
    "ExecuteTime": {
     "end_time": "2023-09-22T14:42:28.110210Z",
     "start_time": "2023-09-22T14:42:28.108265Z"
    }
   },
   "outputs": [
    {
     "name": "stdout",
     "output_type": "stream",
     "text": [
      "['SDG13']\n",
      "['Climate Action']\n"
     ]
    }
   ],
   "source": [
    "print(result.sdg)\n",
    "print(result.sdg_desc)"
   ]
  },
  {
   "cell_type": "code",
   "execution_count": 7,
   "metadata": {
    "ExecuteTime": {
     "end_time": "2023-09-22T14:42:28.113673Z",
     "start_time": "2023-09-22T14:42:28.112102Z"
    }
   },
   "outputs": [
    {
     "name": "stdout",
     "output_type": "stream",
     "text": [
      "['SDG13_general', 'SDG13_2']\n",
      "['Take urgent action to combat climate change and its impacts', 'Integrate climate change measures into national policies, strategies and planning']\n"
     ]
    }
   ],
   "source": [
    "print(result.target)\n",
    "print(result.target_desc)"
   ]
  },
  {
   "cell_type": "code",
   "execution_count": 8,
   "metadata": {
    "ExecuteTime": {
     "end_time": "2023-09-22T14:42:28.117304Z",
     "start_time": "2023-09-22T14:42:28.115359Z"
    }
   },
   "outputs": [
    {
     "name": "stdout",
     "output_type": "stream",
     "text": [
      "['indirect']\n"
     ]
    }
   ],
   "source": [
    "# check match type\n",
    "print(result.match)"
   ]
  },
  {
   "cell_type": "markdown",
   "metadata": {},
   "source": [
    "<a name=\"3\"></a>\n",
    "### To classify a statement into social, environmental, and economic sustainability"
   ]
  },
  {
   "cell_type": "code",
   "execution_count": 9,
   "metadata": {
    "ExecuteTime": {
     "end_time": "2023-09-22T14:42:28.119699Z",
     "start_time": "2023-09-22T14:42:28.118102Z"
    }
   },
   "outputs": [
    {
     "name": "stdout",
     "output_type": "stream",
     "text": [
      "{'social_sustainability': False, 'environmental_sustainability': True, 'economic_sustainability': False}\n"
     ]
    }
   ],
   "source": [
    "print(result.see)"
   ]
  },
  {
   "cell_type": "markdown",
   "metadata": {
    "ExecuteTime": {
     "end_time": "2023-09-22T14:27:19.178161Z",
     "start_time": "2023-09-22T14:27:19.169166Z"
    }
   },
   "source": [
    "<a name=\"4\"></a>\n",
    "### To examine and customize match syntax"
   ]
  },
  {
   "cell_type": "code",
   "execution_count": 10,
   "metadata": {
    "ExecuteTime": {
     "end_time": "2023-09-22T14:42:28.122698Z",
     "start_time": "2023-09-22T14:42:28.120773Z"
    }
   },
   "outputs": [
    {
     "name": "stdout",
     "output_type": "stream",
     "text": [
      "[{'SDG_id': 'SDG1_general', 'SDG_keywords': '(sdg|goal)[^0-9]{0,2}(?=1\\\\b)|No Poverty', 'match_type': 'direct'}]\n"
     ]
    }
   ],
   "source": [
    "SeeSus.show_syntax(\"SDG1_general\")"
   ]
  },
  {
   "cell_type": "code",
   "execution_count": 11,
   "metadata": {
    "ExecuteTime": {
     "end_time": "2023-09-22T14:42:28.126112Z",
     "start_time": "2023-09-22T14:42:28.123998Z"
    }
   },
   "outputs": [
    {
     "name": "stdout",
     "output_type": "stream",
     "text": [
      "The indirect match syntax of SDG1_general has been updated.\n"
     ]
    }
   ],
   "source": [
    "SeeSus.edit_syntax(sdg_id=\"SDG1_general\", new_syntax=\"my match terms\", match_type='indirect')"
   ]
  },
  {
   "cell_type": "markdown",
   "metadata": {},
   "source": [
    "It should be noted that if a match type (i.e., \"direct\" or \"indirect\") of the specified SDG id does not exist in the original database (i.e., `SDG_keys`), the new syntax will be *added* to the database. If a match type already exists, the new syntax will *replace* the original syntax."
   ]
  },
  {
   "cell_type": "code",
   "execution_count": 12,
   "metadata": {
    "ExecuteTime": {
     "end_time": "2023-09-22T14:42:28.129631Z",
     "start_time": "2023-09-22T14:42:28.127140Z"
    }
   },
   "outputs": [
    {
     "name": "stdout",
     "output_type": "stream",
     "text": [
      "[{'SDG_id': 'SDG1_general', 'SDG_keywords': '(sdg|goal)[^0-9]{0,2}(?=1\\\\b)|No Poverty', 'match_type': 'direct'}, {'SDG_id': 'SDG1_general', 'SDG_keywords': 'my match terms', 'match_type': 'indirect'}]\n"
     ]
    }
   ],
   "source": [
    "SeeSus.show_syntax(\"SDG1_general\")"
   ]
  },
  {
   "cell_type": "code",
   "execution_count": 13,
   "metadata": {
    "ExecuteTime": {
     "end_time": "2023-09-22T14:42:29.061431Z",
     "start_time": "2023-09-22T14:42:28.130774Z"
    }
   },
   "outputs": [],
   "source": [
    "new_result = SeeSus(\"my match terms are in text\")"
   ]
  },
  {
   "cell_type": "code",
   "execution_count": 14,
   "metadata": {
    "ExecuteTime": {
     "end_time": "2023-09-22T14:42:29.064561Z",
     "start_time": "2023-09-22T14:42:29.062465Z"
    }
   },
   "outputs": [
    {
     "name": "stdout",
     "output_type": "stream",
     "text": [
      "True\n",
      "['SDG1_general']\n",
      "['indirect']\n"
     ]
    }
   ],
   "source": [
    "print(new_result.sus)\n",
    "print(new_result.target)\n",
    "print(new_result.match)"
   ]
  },
  {
   "cell_type": "code",
   "execution_count": null,
   "metadata": {},
   "outputs": [],
   "source": []
  }
 ],
 "metadata": {
  "kernelspec": {
   "display_name": "Python 3",
   "language": "python",
   "name": "python3"
  },
  "language_info": {
   "codemirror_mode": {
    "name": "ipython",
    "version": 3
   },
   "file_extension": ".py",
   "mimetype": "text/x-python",
   "name": "python",
   "nbconvert_exporter": "python",
   "pygments_lexer": "ipython3",
   "version": "3.8.3"
  },
  "toc": {
   "base_numbering": 1,
   "nav_menu": {},
   "number_sections": false,
   "sideBar": true,
   "skip_h1_title": false,
   "title_cell": "Table of Contents",
   "title_sidebar": "Contents",
   "toc_cell": false,
   "toc_position": {},
   "toc_section_display": true,
   "toc_window_display": false
  },
  "varInspector": {
   "cols": {
    "lenName": 16,
    "lenType": 16,
    "lenVar": 40
   },
   "kernels_config": {
    "python": {
     "delete_cmd_postfix": "",
     "delete_cmd_prefix": "del ",
     "library": "var_list.py",
     "varRefreshCmd": "print(var_dic_list())"
    },
    "r": {
     "delete_cmd_postfix": ") ",
     "delete_cmd_prefix": "rm(",
     "library": "var_list.r",
     "varRefreshCmd": "cat(var_dic_list()) "
    }
   },
   "types_to_exclude": [
    "module",
    "function",
    "builtin_function_or_method",
    "instance",
    "_Feature"
   ],
   "window_display": false
  }
 },
 "nbformat": 4,
 "nbformat_minor": 4
}
