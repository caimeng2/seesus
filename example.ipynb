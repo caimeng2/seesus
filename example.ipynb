{
 "cells": [
  {
   "cell_type": "markdown",
   "metadata": {},
   "source": [
    "<img src=\"docs/logo.jpg\" width=\"400\" height=\"400\" align=\"center\"/> \n",
    "\n",
    "# <center> `seesus` for Text Analysis on Sustainability<center> "
   ]
  },
  {
   "cell_type": "markdown",
   "metadata": {},
   "source": [
    "`seesus` is an open-source Python software that evaluates whether a textual expression aligns with the concept of sustainability as defined by the United Nations Sustainable Development Goals (SDGs). It currently has four main functions: \n",
    "1. [Evaluate whether a statement aligns with sustainability](#1)\n",
    "2. [Identify SDGs and associated targets in a statement](#2)\n",
    "3. [Classify a statement into social, environmental, and economic sustainability](#3)\n",
    "4. [Examine and customize match syntax](#4)\n",
    "\n",
    "`seesus` is based on regular expressions instead of language models. It attains an accuracy rate of 75.5%, as determined by alignment with manual coding.\n",
    "\n",
    "For analysis in R, please check [`SDGdector`](https://github.com/Yingjie4Science/SDGdetector)."
   ]
  },
  {
   "cell_type": "markdown",
   "metadata": {},
   "source": [
    "## Example usage"
   ]
  },
  {
   "cell_type": "markdown",
   "metadata": {},
   "source": [
    "To achieve the best results, it is recommended to analyze one sentence rather than a lengthy paragraph. Paragraphs could be split into sentences by tools such as `nltk.tokenize` and `re.split`. \n",
    "\n",
    "A statement could be directly matched with the concept of sustainability (e.g., \"progress toward the Sustainable Development Goal 1\"), or indirectly (e.g., \"mitigate climate change\"). We provide two examples here."
   ]
  },
  {
   "cell_type": "code",
   "execution_count": 1,
   "metadata": {
    "ExecuteTime": {
     "end_time": "2023-10-09T20:29:57.860299Z",
     "start_time": "2023-10-09T20:29:57.858653Z"
    },
    "tags": []
   },
   "outputs": [],
   "source": [
    "# install the package\n",
    "# !pip install seesus"
   ]
  },
  {
   "cell_type": "code",
   "execution_count": 2,
   "metadata": {
    "ExecuteTime": {
     "end_time": "2023-10-09T20:29:57.872285Z",
     "start_time": "2023-10-09T20:29:57.861968Z"
    },
    "tags": []
   },
   "outputs": [],
   "source": [
    "from seesus import SeeSus"
   ]
  },
  {
   "cell_type": "code",
   "execution_count": 3,
   "metadata": {
    "ExecuteTime": {
     "end_time": "2023-10-09T20:29:57.875686Z",
     "start_time": "2023-10-09T20:29:57.873923Z"
    },
    "tags": []
   },
   "outputs": [],
   "source": [
    "# an example with indirect match\n",
    "text = \"We aim to contribute to the mitigation of climate change by reducing carbon emissions in the city.\""
   ]
  },
  {
   "cell_type": "code",
   "execution_count": 7,
   "metadata": {
    "ExecuteTime": {
     "end_time": "2023-10-09T20:29:57.877955Z",
     "start_time": "2023-10-09T20:29:57.876613Z"
    },
    "tags": []
   },
   "outputs": [],
   "source": [
    "# an example with direct match\n",
    "# text = \"Our ambition is to achieve the Sustainable Development Goal 1\""
   ]
  },
  {
   "cell_type": "code",
   "execution_count": 11,
   "metadata": {
    "ExecuteTime": {
     "end_time": "2023-10-09T20:29:58.791083Z",
     "start_time": "2023-10-09T20:29:57.879040Z"
    },
    "tags": []
   },
   "outputs": [],
   "source": [
    "result = SeeSus(text)"
   ]
  },
  {
   "cell_type": "code",
   "execution_count": 12,
   "metadata": {
    "tags": []
   },
   "outputs": [
    {
     "name": "stdout",
     "output_type": "stream",
     "text": [
      "String matched the following SDGs\n",
      "\n"
     ]
    }
   ],
   "source": [
    "print(result)"
   ]
  },
  {
   "cell_type": "markdown",
   "metadata": {
    "tags": []
   },
   "source": [
    "<a name=\"1\"></a>\n",
    "### To evaluate whether a statement aligns with sustainability"
   ]
  },
  {
   "cell_type": "code",
   "execution_count": null,
   "metadata": {
    "ExecuteTime": {
     "end_time": "2023-10-09T20:29:58.793858Z",
     "start_time": "2023-10-09T20:29:58.792105Z"
    },
    "tags": []
   },
   "outputs": [],
   "source": [
    "print(result.sus)"
   ]
  },
  {
   "cell_type": "markdown",
   "metadata": {},
   "source": [
    "<a name=\"2\"></a>\n",
    "### To identify SDGs and associated targets in a statement"
   ]
  },
  {
   "cell_type": "code",
   "execution_count": null,
   "metadata": {
    "ExecuteTime": {
     "end_time": "2023-10-09T20:29:58.797883Z",
     "start_time": "2023-10-09T20:29:58.795789Z"
    },
    "tags": []
   },
   "outputs": [],
   "source": [
    "print(result.sdg)\n",
    "print(result.sdg_desc)"
   ]
  },
  {
   "cell_type": "code",
   "execution_count": null,
   "metadata": {
    "ExecuteTime": {
     "end_time": "2023-10-09T20:29:58.801756Z",
     "start_time": "2023-10-09T20:29:58.799833Z"
    },
    "tags": []
   },
   "outputs": [],
   "source": [
    "print(result.target)\n",
    "print(result.target_desc)"
   ]
  },
  {
   "cell_type": "code",
   "execution_count": null,
   "metadata": {
    "ExecuteTime": {
     "end_time": "2023-10-09T20:29:58.804717Z",
     "start_time": "2023-10-09T20:29:58.802946Z"
    },
    "tags": []
   },
   "outputs": [],
   "source": [
    "# check match type\n",
    "print(result.match)"
   ]
  },
  {
   "cell_type": "markdown",
   "metadata": {},
   "source": [
    "<a name=\"3\"></a>\n",
    "### To classify a statement into social, environmental, and economic sustainability"
   ]
  },
  {
   "cell_type": "code",
   "execution_count": null,
   "metadata": {
    "ExecuteTime": {
     "end_time": "2023-10-09T20:29:58.807370Z",
     "start_time": "2023-10-09T20:29:58.805663Z"
    }
   },
   "outputs": [],
   "source": [
    "print(result.see)"
   ]
  },
  {
   "cell_type": "markdown",
   "metadata": {
    "ExecuteTime": {
     "end_time": "2023-09-22T14:27:19.178161Z",
     "start_time": "2023-09-22T14:27:19.169166Z"
    }
   },
   "source": [
    "<a name=\"4\"></a>\n",
    "### To examine and customize match syntax"
   ]
  },
  {
   "cell_type": "code",
   "execution_count": null,
   "metadata": {
    "ExecuteTime": {
     "end_time": "2023-10-09T20:29:58.810383Z",
     "start_time": "2023-10-09T20:29:58.808335Z"
    },
    "tags": []
   },
   "outputs": [],
   "source": [
    "SeeSus.show_syntax(\"SDG1_general\")"
   ]
  },
  {
   "cell_type": "code",
   "execution_count": null,
   "metadata": {
    "ExecuteTime": {
     "end_time": "2023-10-09T20:29:58.813574Z",
     "start_time": "2023-10-09T20:29:58.811443Z"
    },
    "tags": []
   },
   "outputs": [],
   "source": [
    "SeeSus.edit_syntax(sdg_id=\"SDG1_general\", new_syntax=\"my match terms\", match_type='indirect')"
   ]
  },
  {
   "cell_type": "markdown",
   "metadata": {},
   "source": [
    "It should be noted that if a match type (i.e., \"direct\" or \"indirect\") of the specified SDG id does not exist in the original database (i.e., `SDG_keys`), the new syntax will be *added* to the database. If a match type already exists, the new syntax will *replace* the original syntax."
   ]
  },
  {
   "cell_type": "code",
   "execution_count": null,
   "metadata": {
    "ExecuteTime": {
     "end_time": "2023-10-09T20:29:58.816273Z",
     "start_time": "2023-10-09T20:29:58.814509Z"
    },
    "tags": []
   },
   "outputs": [],
   "source": [
    "SeeSus.show_syntax(\"SDG1_general\")"
   ]
  },
  {
   "cell_type": "code",
   "execution_count": null,
   "metadata": {
    "ExecuteTime": {
     "end_time": "2023-10-09T20:29:59.703559Z",
     "start_time": "2023-10-09T20:29:58.817816Z"
    },
    "tags": []
   },
   "outputs": [],
   "source": [
    "new_result = SeeSus(\"my match terms are in text\")"
   ]
  },
  {
   "cell_type": "code",
   "execution_count": null,
   "metadata": {
    "ExecuteTime": {
     "end_time": "2023-10-09T20:29:59.706681Z",
     "start_time": "2023-10-09T20:29:59.704587Z"
    },
    "tags": []
   },
   "outputs": [],
   "source": [
    "print(new_result.sus)\n",
    "print(new_result.target)\n",
    "print(new_result.match)"
   ]
  },
  {
   "cell_type": "code",
   "execution_count": null,
   "metadata": {},
   "outputs": [],
   "source": []
  }
 ],
 "metadata": {
  "kernelspec": {
   "display_name": "Python 3 (ipykernel)",
   "language": "python",
   "name": "python3"
  },
  "language_info": {
   "codemirror_mode": {
    "name": "ipython",
    "version": 3
   },
   "file_extension": ".py",
   "mimetype": "text/x-python",
   "name": "python",
   "nbconvert_exporter": "python",
   "pygments_lexer": "ipython3",
   "version": "3.11.5"
  },
  "toc": {
   "base_numbering": 1,
   "nav_menu": {},
   "number_sections": false,
   "sideBar": true,
   "skip_h1_title": false,
   "title_cell": "Table of Contents",
   "title_sidebar": "Contents",
   "toc_cell": false,
   "toc_position": {},
   "toc_section_display": true,
   "toc_window_display": false
  },
  "varInspector": {
   "cols": {
    "lenName": 16,
    "lenType": 16,
    "lenVar": 40
   },
   "kernels_config": {
    "python": {
     "delete_cmd_postfix": "",
     "delete_cmd_prefix": "del ",
     "library": "var_list.py",
     "varRefreshCmd": "print(var_dic_list())"
    },
    "r": {
     "delete_cmd_postfix": ") ",
     "delete_cmd_prefix": "rm(",
     "library": "var_list.r",
     "varRefreshCmd": "cat(var_dic_list()) "
    }
   },
   "types_to_exclude": [
    "module",
    "function",
    "builtin_function_or_method",
    "instance",
    "_Feature"
   ],
   "window_display": false
  }
 },
 "nbformat": 4,
 "nbformat_minor": 4
}
