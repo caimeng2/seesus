{
 "cells": [
  {
   "cell_type": "markdown",
   "metadata": {},
   "source": [
    "# How to use `seesus`\n",
    "\n",
    "More description coming up"
   ]
  },
  {
   "cell_type": "code",
   "execution_count": 1,
   "metadata": {
    "ExecuteTime": {
     "end_time": "2023-09-20T12:28:22.940543Z",
     "start_time": "2023-09-20T12:28:22.907612Z"
    }
   },
   "outputs": [],
   "source": [
    "from seesus import SeeSus"
   ]
  },
  {
   "cell_type": "code",
   "execution_count": 2,
   "metadata": {
    "ExecuteTime": {
     "end_time": "2023-09-20T12:28:23.606449Z",
     "start_time": "2023-09-20T12:28:23.599103Z"
    },
    "tags": []
   },
   "outputs": [],
   "source": [
    "text = \"our goal is to mitigate climate change, end poverty, and reduce inequality globally\""
   ]
  },
  {
   "cell_type": "code",
   "execution_count": 3,
   "metadata": {
    "ExecuteTime": {
     "end_time": "2023-09-20T12:28:25.199233Z",
     "start_time": "2023-09-20T12:28:24.221752Z"
    }
   },
   "outputs": [],
   "source": [
    "result = SeeSus(text)\n",
    "sdgs = result.sdg\n",
    "sdg_desc = result.sdg_desc\n",
    "targets = result.target\n",
    "target_desc = result.target_desc\n",
    "see = result.see"
   ]
  },
  {
   "cell_type": "code",
   "execution_count": 4,
   "metadata": {
    "ExecuteTime": {
     "end_time": "2023-09-20T12:28:25.878940Z",
     "start_time": "2023-09-20T12:28:25.870616Z"
    }
   },
   "outputs": [
    {
     "name": "stdout",
     "output_type": "stream",
     "text": [
      "['SDG13', 'SDG1', 'SDG10']\n",
      "['No Poverty', 'Reducing Inequality', 'Climate Action']\n"
     ]
    }
   ],
   "source": [
    "print(sdgs)\n",
    "print(sdg_desc)"
   ]
  },
  {
   "cell_type": "code",
   "execution_count": 5,
   "metadata": {
    "ExecuteTime": {
     "end_time": "2023-09-20T12:28:26.739263Z",
     "start_time": "2023-09-20T12:28:26.732690Z"
    }
   },
   "outputs": [
    {
     "name": "stdout",
     "output_type": "stream",
     "text": [
      "['SDG1_2', 'SDG13_2', 'SDG10_3', 'SDG13_general']\n",
      "['Take urgent action to combat climate change and its impacts', 'By 2030, reduce at least by half the proportion of men, women and children of all ages living in poverty in all its dimensions according to national definitions', 'Ensure equal opportunity and reduce inequalities of outcome, including by eliminating discriminatory laws, policies and practices and promoting appropriate legislation, policies and action in this regard', 'Integrate climate change measures into national policies, strategies and planning']\n"
     ]
    }
   ],
   "source": [
    "print(targets)\n",
    "print(target_desc)"
   ]
  },
  {
   "cell_type": "code",
   "execution_count": 6,
   "metadata": {
    "ExecuteTime": {
     "end_time": "2023-09-20T12:28:28.572830Z",
     "start_time": "2023-09-20T12:28:28.564646Z"
    }
   },
   "outputs": [
    {
     "name": "stdout",
     "output_type": "stream",
     "text": [
      "{'social_sustainability': True, 'environmental_sustainability': True, 'economic_sustainability': False}\n"
     ]
    }
   ],
   "source": [
    "print(see)"
   ]
  },
  {
   "cell_type": "code",
   "execution_count": 7,
   "metadata": {
    "ExecuteTime": {
     "end_time": "2023-09-20T12:28:29.282875Z",
     "start_time": "2023-09-20T12:28:29.278389Z"
    }
   },
   "outputs": [
    {
     "name": "stdout",
     "output_type": "stream",
     "text": [
      "A social, environmental, and economic sustainability classifier.\n"
     ]
    }
   ],
   "source": [
    "print(SeeSus.__doc__)"
   ]
  },
  {
   "cell_type": "code",
   "execution_count": null,
   "metadata": {},
   "outputs": [],
   "source": []
  }
 ],
 "metadata": {
  "kernelspec": {
   "display_name": "Python 3",
   "language": "python",
   "name": "python3"
  },
  "language_info": {
   "codemirror_mode": {
    "name": "ipython",
    "version": 3
   },
   "file_extension": ".py",
   "mimetype": "text/x-python",
   "name": "python",
   "nbconvert_exporter": "python",
   "pygments_lexer": "ipython3",
   "version": "3.8.3"
  },
  "toc": {
   "base_numbering": 1,
   "nav_menu": {},
   "number_sections": false,
   "sideBar": true,
   "skip_h1_title": false,
   "title_cell": "Table of Contents",
   "title_sidebar": "Contents",
   "toc_cell": false,
   "toc_position": {},
   "toc_section_display": true,
   "toc_window_display": false
  },
  "varInspector": {
   "cols": {
    "lenName": 16,
    "lenType": 16,
    "lenVar": 40
   },
   "kernels_config": {
    "python": {
     "delete_cmd_postfix": "",
     "delete_cmd_prefix": "del ",
     "library": "var_list.py",
     "varRefreshCmd": "print(var_dic_list())"
    },
    "r": {
     "delete_cmd_postfix": ") ",
     "delete_cmd_prefix": "rm(",
     "library": "var_list.r",
     "varRefreshCmd": "cat(var_dic_list()) "
    }
   },
   "types_to_exclude": [
    "module",
    "function",
    "builtin_function_or_method",
    "instance",
    "_Feature"
   ],
   "window_display": false
  }
 },
 "nbformat": 4,
 "nbformat_minor": 4
}
