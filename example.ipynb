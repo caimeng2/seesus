{
 "cells": [
  {
   "cell_type": "markdown",
   "metadata": {},
   "source": [
    "# How to use `seesus`\n",
    "\n",
    "More description coming up"
   ]
  },
  {
   "cell_type": "code",
   "execution_count": 1,
   "metadata": {
    "ExecuteTime": {
     "end_time": "2023-09-21T18:28:49.837144Z",
     "start_time": "2023-09-21T18:28:49.796376Z"
    }
   },
   "outputs": [],
   "source": [
    "from seesus import SeeSus"
   ]
  },
  {
   "cell_type": "code",
   "execution_count": 2,
   "metadata": {
    "ExecuteTime": {
     "end_time": "2023-09-21T18:28:50.525974Z",
     "start_time": "2023-09-21T18:28:50.516731Z"
    },
    "tags": []
   },
   "outputs": [],
   "source": [
    "text = \"our goal is to end hunger globally\""
   ]
  },
  {
   "cell_type": "code",
   "execution_count": 3,
   "metadata": {
    "ExecuteTime": {
     "end_time": "2023-09-21T18:28:51.998963Z",
     "start_time": "2023-09-21T18:28:51.048934Z"
    }
   },
   "outputs": [],
   "source": [
    "result = SeeSus(text)"
   ]
  },
  {
   "cell_type": "code",
   "execution_count": 4,
   "metadata": {
    "ExecuteTime": {
     "end_time": "2023-09-21T18:28:52.215938Z",
     "start_time": "2023-09-21T18:28:52.205645Z"
    }
   },
   "outputs": [
    {
     "name": "stdout",
     "output_type": "stream",
     "text": [
      "True\n",
      "['SDG2']\n",
      "['Zero Hunger']\n"
     ]
    }
   ],
   "source": [
    "print(result.sus)\n",
    "print(result.sdg)\n",
    "print(result.sdg_desc)"
   ]
  },
  {
   "cell_type": "code",
   "execution_count": 5,
   "metadata": {
    "ExecuteTime": {
     "end_time": "2023-09-21T18:28:53.058391Z",
     "start_time": "2023-09-21T18:28:53.046326Z"
    }
   },
   "outputs": [
    {
     "name": "stdout",
     "output_type": "stream",
     "text": [
      "['SDG2_1']\n",
      "['By 2030, end hunger and ensure access by all people, in particular the poor and people in vulnerable situations, including infants, to safe, nutritious and sufficient food all year round']\n"
     ]
    }
   ],
   "source": [
    "print(result.target)\n",
    "print(result.target_desc)"
   ]
  },
  {
   "cell_type": "code",
   "execution_count": 6,
   "metadata": {
    "ExecuteTime": {
     "end_time": "2023-09-21T18:28:53.843057Z",
     "start_time": "2023-09-21T18:28:53.833356Z"
    }
   },
   "outputs": [
    {
     "name": "stdout",
     "output_type": "stream",
     "text": [
      "{'social_sustainability': True, 'environmental_sustainability': False, 'economic_sustainability': False}\n"
     ]
    }
   ],
   "source": [
    "print(result.see)"
   ]
  },
  {
   "cell_type": "code",
   "execution_count": 7,
   "metadata": {
    "ExecuteTime": {
     "end_time": "2023-09-21T18:28:54.626270Z",
     "start_time": "2023-09-21T18:28:54.616886Z"
    }
   },
   "outputs": [
    {
     "name": "stdout",
     "output_type": "stream",
     "text": [
      "['indirect']\n"
     ]
    }
   ],
   "source": [
    "print(result.match)"
   ]
  },
  {
   "cell_type": "code",
   "execution_count": 8,
   "metadata": {
    "ExecuteTime": {
     "end_time": "2023-09-21T18:28:55.379335Z",
     "start_time": "2023-09-21T18:28:55.364126Z"
    }
   },
   "outputs": [
    {
     "name": "stdout",
     "output_type": "stream",
     "text": [
      "[{'SDG_id': 'SDG1_general', 'SDG_keywords': '(sdg|goal)[^0-9]{0,2}(?=1\\\\b)|No Poverty', 'match_type': 'direct'}]\n"
     ]
    }
   ],
   "source": [
    "SeeSus.show_syntax(\"SDG1_general\")"
   ]
  },
  {
   "cell_type": "code",
   "execution_count": 9,
   "metadata": {
    "ExecuteTime": {
     "end_time": "2023-09-21T18:28:55.972139Z",
     "start_time": "2023-09-21T18:28:55.964761Z"
    }
   },
   "outputs": [
    {
     "name": "stdout",
     "output_type": "stream",
     "text": [
      "The indirect match syntax of SDG1_general has been updated.\n"
     ]
    }
   ],
   "source": [
    "SeeSus.edit_syntax(\"SDG1_general\", \"my match terms\")"
   ]
  },
  {
   "cell_type": "code",
   "execution_count": 10,
   "metadata": {
    "ExecuteTime": {
     "end_time": "2023-09-21T18:28:57.565191Z",
     "start_time": "2023-09-21T18:28:56.572500Z"
    }
   },
   "outputs": [],
   "source": [
    "new_result = SeeSus(\"my match terms are in text\")"
   ]
  },
  {
   "cell_type": "code",
   "execution_count": 11,
   "metadata": {
    "ExecuteTime": {
     "end_time": "2023-09-21T18:28:57.703983Z",
     "start_time": "2023-09-21T18:28:57.700483Z"
    }
   },
   "outputs": [
    {
     "name": "stdout",
     "output_type": "stream",
     "text": [
      "True\n",
      "['SDG1']\n",
      "['SDG1_general']\n"
     ]
    }
   ],
   "source": [
    "print(new_result.sus)\n",
    "print(new_result.sdg)\n",
    "print(new_result.target)"
   ]
  },
  {
   "cell_type": "code",
   "execution_count": null,
   "metadata": {},
   "outputs": [],
   "source": []
  }
 ],
 "metadata": {
  "kernelspec": {
   "display_name": "Python 3",
   "language": "python",
   "name": "python3"
  },
  "language_info": {
   "codemirror_mode": {
    "name": "ipython",
    "version": 3
   },
   "file_extension": ".py",
   "mimetype": "text/x-python",
   "name": "python",
   "nbconvert_exporter": "python",
   "pygments_lexer": "ipython3",
   "version": "3.8.3"
  },
  "toc": {
   "base_numbering": 1,
   "nav_menu": {},
   "number_sections": false,
   "sideBar": true,
   "skip_h1_title": false,
   "title_cell": "Table of Contents",
   "title_sidebar": "Contents",
   "toc_cell": false,
   "toc_position": {},
   "toc_section_display": true,
   "toc_window_display": false
  },
  "varInspector": {
   "cols": {
    "lenName": 16,
    "lenType": 16,
    "lenVar": 40
   },
   "kernels_config": {
    "python": {
     "delete_cmd_postfix": "",
     "delete_cmd_prefix": "del ",
     "library": "var_list.py",
     "varRefreshCmd": "print(var_dic_list())"
    },
    "r": {
     "delete_cmd_postfix": ") ",
     "delete_cmd_prefix": "rm(",
     "library": "var_list.r",
     "varRefreshCmd": "cat(var_dic_list()) "
    }
   },
   "types_to_exclude": [
    "module",
    "function",
    "builtin_function_or_method",
    "instance",
    "_Feature"
   ],
   "window_display": false
  }
 },
 "nbformat": 4,
 "nbformat_minor": 4
}
