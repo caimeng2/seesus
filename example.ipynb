{
 "cells": [
  {
   "cell_type": "markdown",
   "metadata": {},
   "source": [
    "<img src=\"docs/logo.jpg\" width=\"400\" height=\"400\" align=\"center\"/> \n",
    "\n",
    "# <center> `seesus` for Text Analysis on Sustainability<center> "
   ]
  },
  {
   "cell_type": "markdown",
   "metadata": {},
   "source": [
    "`seesus` is an open-source Python package that evaluates whether a textual expression aligns with the concept of sustainability as defined by the United Nations Sustainable Development Goals (SDGs). It currently has four main functions: \n",
    "1. [Evaluating whether a statement aligns with sustainability](#1)\n",
    "2. [Identifying SDGs and associated targets in a statement](#2)\n",
    "3. [Classifying a statement into social, environmental, and economic sustainability](#3)\n",
    "4. [Customizing match syntax](#4)\n",
    "\n",
    "`seesus` is based on regular expressions instead of language models. It attains an accuracy rate of 76%, as determined by alignment with manual coding.\n",
    "\n",
    "For analysis in R, please check [`SDGdector`](https://github.com/Yingjie4Science/SDGdetector)."
   ]
  },
  {
   "cell_type": "markdown",
   "metadata": {},
   "source": [
    "To achieve the best results, it is recommended to analyze one sentence rather than a lengthy paragraph. Paragraphs could be split into sentences by tools such as `nltk.tokenize` and `re.split`. \n",
    "\n",
    "A statement could be directly matched with the concept of sustainability (e.g., \"progress toward the Sustainable Development Goal 1\"), or indirectly (e.g., \"mitigate climate change\"). We provide four examples here: one statement with an indirect match, one statement with a direct match, a paragraph in a planning document, and an abstract of an academic publication. The last two examples are identical in terms of function demo. They are presented to showcase different application areas. "
   ]
  },
  {
   "cell_type": "code",
   "execution_count": 1,
   "metadata": {
    "ExecuteTime": {
     "end_time": "2024-02-22T11:43:49.671814Z",
     "start_time": "2024-02-22T11:43:49.669808Z"
    },
    "tags": []
   },
   "outputs": [],
   "source": [
    "# install the package\n",
    "# !pip install seesus"
   ]
  },
  {
   "cell_type": "code",
   "execution_count": 2,
   "metadata": {
    "ExecuteTime": {
     "end_time": "2024-02-22T11:43:49.691944Z",
     "start_time": "2024-02-22T11:43:49.674646Z"
    },
    "tags": []
   },
   "outputs": [],
   "source": [
    "from seesus import SeeSus\n",
    "import re # only needed for example 3 and 4\n",
    "# from nltk.tokenize import sent_tokenize # an alternative to re"
   ]
  },
  {
   "cell_type": "markdown",
   "metadata": {},
   "source": [
    "## Example 1: statement with an indirect match"
   ]
  },
  {
   "cell_type": "code",
   "execution_count": 3,
   "metadata": {
    "ExecuteTime": {
     "end_time": "2024-02-22T11:43:49.696921Z",
     "start_time": "2024-02-22T11:43:49.694064Z"
    },
    "tags": []
   },
   "outputs": [],
   "source": [
    "text = \"We aim to contribute to the mitigation of climate change by reducing carbon emissions in the city.\""
   ]
  },
  {
   "cell_type": "markdown",
   "metadata": {
    "ExecuteTime": {
     "end_time": "2023-11-07T13:52:09.593566Z",
     "start_time": "2023-11-07T13:52:09.589356Z"
    }
   },
   "source": [
    "## Example 2: statement with a direct match"
   ]
  },
  {
   "cell_type": "code",
   "execution_count": 4,
   "metadata": {
    "ExecuteTime": {
     "end_time": "2024-02-22T11:43:49.699555Z",
     "start_time": "2024-02-22T11:43:49.698148Z"
    },
    "tags": []
   },
   "outputs": [],
   "source": [
    "text = \"Our ambition is to achieve the Sustainable Development Goal 1\""
   ]
  },
  {
   "cell_type": "markdown",
   "metadata": {
    "tags": []
   },
   "source": [
    "<a name=\"1\"></a>\n",
    "### To evaluate whether a statement aligns with sustainability"
   ]
  },
  {
   "cell_type": "code",
   "execution_count": 5,
   "metadata": {
    "ExecuteTime": {
     "end_time": "2024-02-22T11:43:50.587677Z",
     "start_time": "2024-02-22T11:43:49.700409Z"
    }
   },
   "outputs": [],
   "source": [
    "# use SeeSus to classify the text\n",
    "result = SeeSus(text)"
   ]
  },
  {
   "cell_type": "code",
   "execution_count": 6,
   "metadata": {
    "ExecuteTime": {
     "end_time": "2024-02-22T11:43:50.590555Z",
     "start_time": "2024-02-22T11:43:50.588773Z"
    }
   },
   "outputs": [
    {
     "name": "stdout",
     "output_type": "stream",
     "text": [
      "The text matched the following SDGs at the target level:\n",
      "    SDG1_general - End poverty in all its forms everywhere\n",
      "\n"
     ]
    }
   ],
   "source": [
    "print(result)"
   ]
  },
  {
   "cell_type": "code",
   "execution_count": 7,
   "metadata": {
    "ExecuteTime": {
     "end_time": "2024-02-22T11:43:50.594002Z",
     "start_time": "2024-02-22T11:43:50.592503Z"
    },
    "tags": []
   },
   "outputs": [
    {
     "name": "stdout",
     "output_type": "stream",
     "text": [
      "True\n"
     ]
    }
   ],
   "source": [
    "# print result on whether a statement aligns with sustainability, True or False\n",
    "print(result.sus)"
   ]
  },
  {
   "cell_type": "markdown",
   "metadata": {},
   "source": [
    "<a name=\"2\"></a>\n",
    "### To identify SDGs and associated targets in a statement"
   ]
  },
  {
   "cell_type": "code",
   "execution_count": 8,
   "metadata": {
    "ExecuteTime": {
     "end_time": "2024-02-22T11:43:50.598601Z",
     "start_time": "2024-02-22T11:43:50.595905Z"
    },
    "tags": []
   },
   "outputs": [
    {
     "name": "stdout",
     "output_type": "stream",
     "text": [
      "['SDG1']\n",
      "['No Poverty']\n"
     ]
    }
   ],
   "source": [
    "# print the names of identified SDGs and descriptions\n",
    "print(result.sdg)\n",
    "print(result.sdg_desc)"
   ]
  },
  {
   "cell_type": "code",
   "execution_count": 9,
   "metadata": {
    "ExecuteTime": {
     "end_time": "2024-02-22T11:43:50.601676Z",
     "start_time": "2024-02-22T11:43:50.599789Z"
    },
    "tags": []
   },
   "outputs": [
    {
     "name": "stdout",
     "output_type": "stream",
     "text": [
      "['SDG1_general']\n",
      "['End poverty in all its forms everywhere']\n"
     ]
    }
   ],
   "source": [
    "# print the names of identified SDG targets and descriptions\n",
    "print(result.target)\n",
    "print(result.target_desc)"
   ]
  },
  {
   "cell_type": "code",
   "execution_count": 10,
   "metadata": {
    "ExecuteTime": {
     "end_time": "2024-02-22T11:43:50.604559Z",
     "start_time": "2024-02-22T11:43:50.602683Z"
    },
    "tags": []
   },
   "outputs": [
    {
     "name": "stdout",
     "output_type": "stream",
     "text": [
      "['direct']\n"
     ]
    }
   ],
   "source": [
    "# print the match type\n",
    "print(result.match)"
   ]
  },
  {
   "cell_type": "markdown",
   "metadata": {},
   "source": [
    "<a name=\"3\"></a>\n",
    "### To classify a statement into social, environmental, and economic sustainability"
   ]
  },
  {
   "cell_type": "code",
   "execution_count": 11,
   "metadata": {
    "ExecuteTime": {
     "end_time": "2024-02-22T11:43:50.607996Z",
     "start_time": "2024-02-22T11:43:50.605669Z"
    }
   },
   "outputs": [
    {
     "name": "stdout",
     "output_type": "stream",
     "text": [
      "{'social_sustainability': True, 'environmental_sustainability': False, 'economic_sustainability': False}\n"
     ]
    }
   ],
   "source": [
    "# determine which dimensions of sustainability (social, environmental, or economic) a statement belongs to\n",
    "print(result.see)"
   ]
  },
  {
   "cell_type": "markdown",
   "metadata": {
    "ExecuteTime": {
     "end_time": "2023-09-22T14:27:19.178161Z",
     "start_time": "2023-09-22T14:27:19.169166Z"
    }
   },
   "source": [
    "<a name=\"4\"></a>\n",
    "### To examine and customize match syntax"
   ]
  },
  {
   "cell_type": "code",
   "execution_count": 12,
   "metadata": {
    "ExecuteTime": {
     "end_time": "2024-02-22T11:43:50.611483Z",
     "start_time": "2024-02-22T11:43:50.609465Z"
    },
    "tags": []
   },
   "outputs": [
    {
     "name": "stdout",
     "output_type": "stream",
     "text": [
      "[{'SDG_id': 'SDG1_general', 'SDG_keywords': '(sdg|goal)[^0-9]{0,2}(?=1\\\\b)|No Poverty', 'match_type': 'direct'}]\n"
     ]
    }
   ],
   "source": [
    "# print match syntax\n",
    "SeeSus.show_syntax(\"SDG1_general\")"
   ]
  },
  {
   "cell_type": "code",
   "execution_count": 13,
   "metadata": {
    "ExecuteTime": {
     "end_time": "2024-02-22T11:43:50.614659Z",
     "start_time": "2024-02-22T11:43:50.612430Z"
    },
    "tags": []
   },
   "outputs": [
    {
     "name": "stdout",
     "output_type": "stream",
     "text": [
      "The indirect match syntax of SDG1_general has been updated.\n"
     ]
    }
   ],
   "source": [
    "# customize match syntax\n",
    "SeeSus.edit_syntax(sdg_id=\"SDG1_general\", new_syntax=\"my match terms\", match_type='indirect')"
   ]
  },
  {
   "cell_type": "markdown",
   "metadata": {},
   "source": [
    "It should be noted that if a match type (i.e., \"direct\" or \"indirect\") of the specified SDG id does not exist in the original database (i.e., `SDG_keys`), the new syntax will be *added* to the database. If a match type already exists, the new syntax will *replace* the original syntax."
   ]
  },
  {
   "cell_type": "code",
   "execution_count": 14,
   "metadata": {
    "ExecuteTime": {
     "end_time": "2024-02-22T11:43:50.617389Z",
     "start_time": "2024-02-22T11:43:50.615528Z"
    },
    "tags": []
   },
   "outputs": [
    {
     "name": "stdout",
     "output_type": "stream",
     "text": [
      "[{'SDG_id': 'SDG1_general', 'SDG_keywords': '(sdg|goal)[^0-9]{0,2}(?=1\\\\b)|No Poverty', 'match_type': 'direct'}, {'SDG_id': 'SDG1_general', 'SDG_keywords': 'my match terms', 'match_type': 'indirect'}]\n"
     ]
    }
   ],
   "source": [
    "# check the match syntax again after customization\n",
    "SeeSus.show_syntax(\"SDG1_general\")"
   ]
  },
  {
   "cell_type": "code",
   "execution_count": 15,
   "metadata": {
    "ExecuteTime": {
     "end_time": "2024-02-22T11:43:51.492339Z",
     "start_time": "2024-02-22T11:43:50.618243Z"
    },
    "tags": []
   },
   "outputs": [],
   "source": [
    "# rerun SeeSus\n",
    "new_result = SeeSus(\"my match terms are in text\")"
   ]
  },
  {
   "cell_type": "code",
   "execution_count": 16,
   "metadata": {
    "ExecuteTime": {
     "end_time": "2024-02-22T11:43:51.495460Z",
     "start_time": "2024-02-22T11:43:51.493340Z"
    },
    "tags": []
   },
   "outputs": [
    {
     "name": "stdout",
     "output_type": "stream",
     "text": [
      "True\n",
      "['SDG1_general']\n",
      "['indirect']\n"
     ]
    }
   ],
   "source": [
    "# print results after customizing the match syntax\n",
    "print(new_result.sus)\n",
    "print(new_result.target)\n",
    "print(new_result.match)"
   ]
  },
  {
   "cell_type": "markdown",
   "metadata": {},
   "source": [
    "## Example 3: a paragraph in a planning document"
   ]
  },
  {
   "cell_type": "code",
   "execution_count": 17,
   "metadata": {
    "ExecuteTime": {
     "end_time": "2024-02-22T11:43:51.498108Z",
     "start_time": "2024-02-22T11:43:51.496407Z"
    }
   },
   "outputs": [
    {
     "name": "stdout",
     "output_type": "stream",
     "text": [
      "By working with communities in the floodplain and facilitating flood-resistant building design, DCP is reducing the city’s risks to sea level rise and coastal flooding. Hurricane Sandy was a stark reminder of these risks. The City, led by the Mayor’s Office of Recovery and Resiliency (ORR), has developed a multifaceted plan for recovering from Sandy and improving the city’s resiliency–the ability of its neighborhoods, buildings and infrastructure to withstand and recover quickly from flooding and climate events. As part of this effort, DCP has initiated a series of projects to identify and implement land use and zoning changes as well as other actions needed to support the short-term recovery and long-term vitality of communities affected by Hurricane Sandy and other areas at risk of coastal flooding.\n"
     ]
    }
   ],
   "source": [
    "text = \"By working with communities in the floodplain and facilitating flood-resistant building design, DCP is reducing the city’s risks to sea level rise and coastal flooding. Hurricane Sandy was a stark reminder of these risks. The City, led by the Mayor’s Office of Recovery and Resiliency (ORR), has developed a multifaceted plan for recovering from Sandy and improving the city’s resiliency–the ability of its neighborhoods, buildings and infrastructure to withstand and recover quickly from flooding and climate events. As part of this effort, DCP has initiated a series of projects to identify and implement land use and zoning changes as well as other actions needed to support the short-term recovery and long-term vitality of communities affected by Hurricane Sandy and other areas at risk of coastal flooding.\"\n",
    "print(text)"
   ]
  },
  {
   "cell_type": "markdown",
   "metadata": {},
   "source": [
    "Source: [NYC Planning](https://www.nyc.gov/site/planning/about/dcp-priorities/resiliency-sustainability.page)"
   ]
  },
  {
   "cell_type": "code",
   "execution_count": 18,
   "metadata": {
    "ExecuteTime": {
     "end_time": "2024-02-22T11:43:55.304778Z",
     "start_time": "2024-02-22T11:43:51.499762Z"
    }
   },
   "outputs": [
    {
     "name": "stdout",
     "output_type": "stream",
     "text": [
      "\"By working with communities in the floodplain and facilitating flood-resistant building design, DCP is reducing the city’s risks to sea level rise and coastal flooding.\"\n",
      "Is the sentence related to the concept of sustainability? True\n",
      "Which SDGs? ['SDG13']\n",
      "Which SDG targets specifically? ['SDG13_1', 'SDG13_general']\n",
      "which dimensions of sustainability? {'social_sustainability': False, 'environmental_sustainability': True, 'economic_sustainability': False}\n",
      "----------------\n",
      "\"Hurricane Sandy was a stark reminder of these risks.\"\n",
      "Is the sentence related to the concept of sustainability? False\n",
      "Which SDGs? []\n",
      "Which SDG targets specifically? []\n",
      "which dimensions of sustainability? {'social_sustainability': False, 'environmental_sustainability': False, 'economic_sustainability': False}\n",
      "----------------\n",
      "\"The City, led by the Mayor’s Office of Recovery and Resiliency (ORR), has developed a multifaceted plan for recovering from Sandy and improving the city’s resiliency–the ability of its neighborhoods, buildings and infrastructure to withstand and recover quickly from flooding and climate events.\"\n",
      "Is the sentence related to the concept of sustainability? True\n",
      "Which SDGs? ['SDG13', 'SDG11']\n",
      "Which SDG targets specifically? ['SDG11_b', 'SDG13_1', 'SDG13_general']\n",
      "which dimensions of sustainability? {'social_sustainability': True, 'environmental_sustainability': True, 'economic_sustainability': False}\n",
      "----------------\n",
      "\"As part of this effort, DCP has initiated a series of projects to identify and implement land use and zoning changes as well as other actions needed to support the short-term recovery and long-term vitality of communities affected by Hurricane Sandy and other areas at risk of coastal flooding.\"\n",
      "Is the sentence related to the concept of sustainability? True\n",
      "Which SDGs? ['SDG13']\n",
      "Which SDG targets specifically? ['SDG13_general']\n",
      "which dimensions of sustainability? {'social_sustainability': False, 'environmental_sustainability': True, 'economic_sustainability': False}\n",
      "----------------\n"
     ]
    }
   ],
   "source": [
    "for sent in re.split(r'(?<!\\w\\.\\w.)(?<![A-Z][a-z]\\.)(?<=\\.|\\?)\\s', text):\n",
    "    result = SeeSus(sent)\n",
    "    print('\"', sent, '\"', sep = \"\")\n",
    "    print(\"Is the sentence related to the concept of sustainability?\", result.sus)\n",
    "    print(\"Which SDGs?\", result.sdg)\n",
    "    print(\"Which SDG targets specifically?\", result.target)\n",
    "    print(\"which dimensions of sustainability?\", result.see)\n",
    "    print(\"----------------\")"
   ]
  },
  {
   "cell_type": "markdown",
   "metadata": {},
   "source": [
    "## Example 4: an abstract of an academic publication"
   ]
  },
  {
   "cell_type": "code",
   "execution_count": 19,
   "metadata": {
    "ExecuteTime": {
     "end_time": "2024-02-22T11:43:55.307800Z",
     "start_time": "2024-02-22T11:43:55.305687Z"
    }
   },
   "outputs": [
    {
     "name": "stdout",
     "output_type": "stream",
     "text": [
      "The emergence of generative artificial intelligence (AI) models like ChatGPT has marked the dawn of a new era in human-machine interaction, profoundly impacting various sectors of society. This study investigates the roles and hurdles faced by ChatGPT and its counterparts in advancing the United Nations' Sustainable Development Goals (SDGs). These 17 SDGs form a comprehensive framework addressing diverse global challenges such as poverty, inequality, climate change, and healthcare. Leveraging its natural language processing capabilities, ChatGPT actively promotes education (SDG 4) by providing accessible and personalized learning experiences. Moreover, it aids in information dissemination, supporting goals like zero hunger (SDG 2) and good health and well-being (SDG 3) by distributing vital agricultural and healthcare knowledge. Nevertheless, integrating AI, including ChatGPT, into sustainable development endeavors presents multifaceted challenges. Ethical concerns related to privacy, bias, and misinformation impede progress toward SDGs like gender equality (SDG 5) and reduced inequalities (SDG 10). Technical limitations also hinder AI's potential contributions, posing challenges to goals associated with clean water and sanitation (SDG 6) and affordable and clean energy (SDG 7). Addressing these challenges necessitates global collaboration and policy frameworks that align with the SDG. This research delves into innovative approaches to effectively harness ChatGPT's capabilities, ensuring alignment with the SDG. By confronting ethical and technical challenges and fostering collaboration among stakeholders, generative AI can significantly augment the global pursuit of sustainable development, fostering a more inclusive, knowledgeable, and interconnected world.\n"
     ]
    }
   ],
   "source": [
    "text = \"The emergence of generative artificial intelligence (AI) models like ChatGPT has marked the dawn of a new era in human-machine interaction, profoundly impacting various sectors of society. This study investigates the roles and hurdles faced by ChatGPT and its counterparts in advancing the United Nations' Sustainable Development Goals (SDGs). These 17 SDGs form a comprehensive framework addressing diverse global challenges such as poverty, inequality, climate change, and healthcare. Leveraging its natural language processing capabilities, ChatGPT actively promotes education (SDG 4) by providing accessible and personalized learning experiences. Moreover, it aids in information dissemination, supporting goals like zero hunger (SDG 2) and good health and well-being (SDG 3) by distributing vital agricultural and healthcare knowledge. Nevertheless, integrating AI, including ChatGPT, into sustainable development endeavors presents multifaceted challenges. Ethical concerns related to privacy, bias, and misinformation impede progress toward SDGs like gender equality (SDG 5) and reduced inequalities (SDG 10). Technical limitations also hinder AI's potential contributions, posing challenges to goals associated with clean water and sanitation (SDG 6) and affordable and clean energy (SDG 7). Addressing these challenges necessitates global collaboration and policy frameworks that align with the SDG. This research delves into innovative approaches to effectively harness ChatGPT's capabilities, ensuring alignment with the SDG. By confronting ethical and technical challenges and fostering collaboration among stakeholders, generative AI can significantly augment the global pursuit of sustainable development, fostering a more inclusive, knowledgeable, and interconnected world.\"\n",
    "print(text)"
   ]
  },
  {
   "cell_type": "markdown",
   "metadata": {},
   "source": [
    "Source: Rane, Nitin, Roles and Challenges of ChatGPT and Similar Generative Artificial Intelligence for Achieving the Sustainable Development Goals (SDGs) (August 4, 2023). Available at SSRN: https://ssrn.com/abstract=4603244 or http://dx.doi.org/10.2139/ssrn.4603244"
   ]
  },
  {
   "cell_type": "code",
   "execution_count": 20,
   "metadata": {
    "ExecuteTime": {
     "end_time": "2024-02-22T11:44:05.416347Z",
     "start_time": "2024-02-22T11:43:55.309138Z"
    }
   },
   "outputs": [
    {
     "name": "stdout",
     "output_type": "stream",
     "text": [
      "\"The emergence of generative artificial intelligence (AI) models like ChatGPT has marked the dawn of a new era in human-machine interaction, profoundly impacting various sectors of society.\"\n",
      "Is the sentence related to the concept of sustainability? False\n",
      "Which SDGs? []\n",
      "Which SDG targets specifically? []\n",
      "which dimensions of sustainability? {'social_sustainability': False, 'environmental_sustainability': False, 'economic_sustainability': False}\n",
      "----------------\n",
      "\"This study investigates the roles and hurdles faced by ChatGPT and its counterparts in advancing the United Nations' Sustainable Development Goals (SDGs).\"\n",
      "Is the sentence related to the concept of sustainability? False\n",
      "Which SDGs? []\n",
      "Which SDG targets specifically? []\n",
      "which dimensions of sustainability? {'social_sustainability': False, 'environmental_sustainability': False, 'economic_sustainability': False}\n",
      "----------------\n",
      "\"These 17 SDGs form a comprehensive framework addressing diverse global challenges such as poverty, inequality, climate change, and healthcare.\"\n",
      "Is the sentence related to the concept of sustainability? True\n",
      "Which SDGs? ['SDG13', 'SDG10']\n",
      "Which SDG targets specifically? ['SDG13_general', 'SDG10_general']\n",
      "which dimensions of sustainability? {'social_sustainability': True, 'environmental_sustainability': True, 'economic_sustainability': False}\n",
      "----------------\n",
      "\"Leveraging its natural language processing capabilities, ChatGPT actively promotes education (SDG 4) by providing accessible and personalized learning experiences.\"\n",
      "Is the sentence related to the concept of sustainability? True\n",
      "Which SDGs? ['SDG4']\n",
      "Which SDG targets specifically? ['SDG4_general']\n",
      "which dimensions of sustainability? {'social_sustainability': True, 'environmental_sustainability': False, 'economic_sustainability': False}\n",
      "----------------\n",
      "\"Moreover, it aids in information dissemination, supporting goals like zero hunger (SDG 2) and good health and well-being (SDG 3) by distributing vital agricultural and healthcare knowledge.\"\n",
      "Is the sentence related to the concept of sustainability? True\n",
      "Which SDGs? ['SDG2', 'SDG3']\n",
      "Which SDG targets specifically? ['SDG2_1', 'SDG3_general', 'SDG2_general', 'SDG3_3']\n",
      "which dimensions of sustainability? {'social_sustainability': True, 'environmental_sustainability': True, 'economic_sustainability': False}\n",
      "----------------\n",
      "\"Nevertheless, integrating AI, including ChatGPT, into sustainable development endeavors presents multifaceted challenges.\"\n",
      "Is the sentence related to the concept of sustainability? False\n",
      "Which SDGs? []\n",
      "Which SDG targets specifically? []\n",
      "which dimensions of sustainability? {'social_sustainability': False, 'environmental_sustainability': False, 'economic_sustainability': False}\n",
      "----------------\n",
      "\"Ethical concerns related to privacy, bias, and misinformation impede progress toward SDGs like gender equality (SDG 5) and reduced inequalities (SDG 10).\"\n",
      "Is the sentence related to the concept of sustainability? True\n",
      "Which SDGs? ['SDG5', 'SDG10']\n",
      "Which SDG targets specifically? ['SDG5_general', 'SDG5_1', 'SDG10_3', 'SDG10_general']\n",
      "which dimensions of sustainability? {'social_sustainability': True, 'environmental_sustainability': False, 'economic_sustainability': False}\n",
      "----------------\n",
      "\"Technical limitations also hinder AI's potential contributions, posing challenges to goals associated with clean water and sanitation (SDG 6) and affordable and clean energy (SDG 7).\"\n",
      "Is the sentence related to the concept of sustainability? True\n",
      "Which SDGs? ['SDG6', 'SDG13', 'SDG7']\n",
      "Which SDG targets specifically? ['SDG6_general', 'SDG7_general', 'SDG13_2']\n",
      "which dimensions of sustainability? {'social_sustainability': True, 'environmental_sustainability': True, 'economic_sustainability': False}\n",
      "----------------\n",
      "\"Addressing these challenges necessitates global collaboration and policy frameworks that align with the SDG.\"\n",
      "Is the sentence related to the concept of sustainability? True\n",
      "Which SDGs? ['SDG17']\n",
      "Which SDG targets specifically? ['SDG17_general']\n",
      "which dimensions of sustainability? {'social_sustainability': True, 'environmental_sustainability': False, 'economic_sustainability': False}\n",
      "----------------\n",
      "\"This research delves into innovative approaches to effectively harness ChatGPT's capabilities, ensuring alignment with the SDG.\"\n",
      "Is the sentence related to the concept of sustainability? False\n",
      "Which SDGs? []\n",
      "Which SDG targets specifically? []\n",
      "which dimensions of sustainability? {'social_sustainability': False, 'environmental_sustainability': False, 'economic_sustainability': False}\n",
      "----------------\n",
      "\"By confronting ethical and technical challenges and fostering collaboration among stakeholders, generative AI can significantly augment the global pursuit of sustainable development, fostering a more inclusive, knowledgeable, and interconnected world.\"\n",
      "Is the sentence related to the concept of sustainability? True\n",
      "Which SDGs? ['SDG4']\n",
      "Which SDG targets specifically? ['SDG4_7']\n",
      "which dimensions of sustainability? {'social_sustainability': True, 'environmental_sustainability': False, 'economic_sustainability': False}\n",
      "----------------\n"
     ]
    }
   ],
   "source": [
    "for sent in re.split(r'(?<!\\w\\.\\w.)(?<![A-Z][a-z]\\.)(?<=\\.|\\?)\\s', text):\n",
    "    result = SeeSus(sent)\n",
    "    print('\"', sent, '\"', sep = \"\")\n",
    "    print(\"Is the sentence related to the concept of sustainability?\", result.sus)\n",
    "    print(\"Which SDGs?\", result.sdg)\n",
    "    print(\"Which SDG targets specifically?\", result.target)\n",
    "    print(\"which dimensions of sustainability?\", result.see)\n",
    "    print(\"----------------\")"
   ]
  },
  {
   "cell_type": "code",
   "execution_count": null,
   "metadata": {},
   "outputs": [],
   "source": []
  }
 ],
 "metadata": {
  "kernelspec": {
   "display_name": "Python 3",
   "language": "python",
   "name": "python3"
  },
  "language_info": {
   "codemirror_mode": {
    "name": "ipython",
    "version": 3
   },
   "file_extension": ".py",
   "mimetype": "text/x-python",
   "name": "python",
   "nbconvert_exporter": "python",
   "pygments_lexer": "ipython3",
   "version": "3.8.3"
  },
  "toc": {
   "base_numbering": 1,
   "nav_menu": {},
   "number_sections": false,
   "sideBar": true,
   "skip_h1_title": false,
   "title_cell": "Table of Contents",
   "title_sidebar": "Contents",
   "toc_cell": false,
   "toc_position": {},
   "toc_section_display": true,
   "toc_window_display": false
  },
  "varInspector": {
   "cols": {
    "lenName": 16,
    "lenType": 16,
    "lenVar": 40
   },
   "kernels_config": {
    "python": {
     "delete_cmd_postfix": "",
     "delete_cmd_prefix": "del ",
     "library": "var_list.py",
     "varRefreshCmd": "print(var_dic_list())"
    },
    "r": {
     "delete_cmd_postfix": ") ",
     "delete_cmd_prefix": "rm(",
     "library": "var_list.r",
     "varRefreshCmd": "cat(var_dic_list()) "
    }
   },
   "types_to_exclude": [
    "module",
    "function",
    "builtin_function_or_method",
    "instance",
    "_Feature"
   ],
   "window_display": false
  }
 },
 "nbformat": 4,
 "nbformat_minor": 4
}
